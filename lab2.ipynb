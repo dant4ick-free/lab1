{
  "cells": [
    {
      "cell_type": "markdown",
      "metadata": {
        "id": "wG1FmWUXHy-s"
      },
      "source": [
        "# Задание"
      ]
    },
    {
      "cell_type": "markdown",
      "metadata": {
        "id": "3cLYSK8MIU7D"
      },
      "source": [
        "Используя модуль **datasets** библиотеки **sklearn**, загрузите базу вин (`.load_wine()`).\n",
        "\n",
        "Используя шаблон ноутбука, выполните загрузку, подготовку и предобработку данных. Обязательное условие: разделение данных на три выборки осуществляется по шаблону (изменять параметры подготовки данных запрещается)!\n",
        "\n",
        "Проведите серию экспериментов и добейтесь максимальной точности классификации на тестовой выборке выше 94%.\n",
        "\n",
        "---\n",
        "\n",
        "С помощью метода `.summary()` зафиксируйте количество параметров созданной вами нейронной сети.\n"
      ]
    },
    {
      "cell_type": "markdown",
      "metadata": {
        "id": "f6qN94mFJ8lC"
      },
      "source": [
        "# Шаблон ноутбука"
      ]
    },
    {
      "cell_type": "code",
      "execution_count": 17,
      "metadata": {
        "id": "3eQX1X5PHEkI"
      },
      "outputs": [
        {
          "name": "stdout",
          "output_type": "stream",
          "text": [
            "Devices Available:  [PhysicalDevice(name='/physical_device:CPU:0', device_type='CPU')]\n"
          ]
        }
      ],
      "source": [
        "import tensorflow as tf\n",
        "\n",
        "import pandas as pd\n",
        "\n",
        "# Библиотека для работы с массивами\n",
        "import numpy as np\n",
        "\n",
        "# Отрисовка графиков\n",
        "import matplotlib.pyplot as plt\n",
        "\n",
        "# Разделение данных на выборки\n",
        "from sklearn.model_selection import train_test_split\n",
        "\n",
        "# Для загрузки датасета\n",
        "from sklearn.datasets import load_wine\n",
        "\n",
        "from sklearn import preprocessing \n",
        "\n",
        "# Отрисовка изображений в ноутбуке, а не в консоли или файле\n",
        "%matplotlib inline\n",
        "\n",
        "print(\"Devices Available: \", tf.config.list_physical_devices())"
      ]
    },
    {
      "cell_type": "markdown",
      "metadata": {
        "id": "qNwEV1hkLYwa"
      },
      "source": [
        "## Описание базы\n",
        "\n",
        "1. Датасет состоит из набора данных о винах и их классах.\n",
        "2. Данные по одному вину хранятся в numpy-массиве `x_data`: (`13` параметров).\n",
        "3. В датасете `3` класса вин: `y_data`.\n",
        "4. Количество примеров: `178`."
      ]
    },
    {
      "cell_type": "code",
      "execution_count": 18,
      "metadata": {
        "colab": {
          "base_uri": "https://localhost:8080/"
        },
        "id": "R7nBHaKTkNLN",
        "outputId": "5bde8627-d7fe-4c0a-a4d2-89ef6ddd7146"
      },
      "outputs": [
        {
          "data": {
            "text/plain": [
              "{'data': array([[1.423e+01, 1.710e+00, 2.430e+00, ..., 1.040e+00, 3.920e+00,\n",
              "         1.065e+03],\n",
              "        [1.320e+01, 1.780e+00, 2.140e+00, ..., 1.050e+00, 3.400e+00,\n",
              "         1.050e+03],\n",
              "        [1.316e+01, 2.360e+00, 2.670e+00, ..., 1.030e+00, 3.170e+00,\n",
              "         1.185e+03],\n",
              "        ...,\n",
              "        [1.327e+01, 4.280e+00, 2.260e+00, ..., 5.900e-01, 1.560e+00,\n",
              "         8.350e+02],\n",
              "        [1.317e+01, 2.590e+00, 2.370e+00, ..., 6.000e-01, 1.620e+00,\n",
              "         8.400e+02],\n",
              "        [1.413e+01, 4.100e+00, 2.740e+00, ..., 6.100e-01, 1.600e+00,\n",
              "         5.600e+02]]),\n",
              " 'target': array([0, 0, 0, 0, 0, 0, 0, 0, 0, 0, 0, 0, 0, 0, 0, 0, 0, 0, 0, 0, 0, 0,\n",
              "        0, 0, 0, 0, 0, 0, 0, 0, 0, 0, 0, 0, 0, 0, 0, 0, 0, 0, 0, 0, 0, 0,\n",
              "        0, 0, 0, 0, 0, 0, 0, 0, 0, 0, 0, 0, 0, 0, 0, 1, 1, 1, 1, 1, 1, 1,\n",
              "        1, 1, 1, 1, 1, 1, 1, 1, 1, 1, 1, 1, 1, 1, 1, 1, 1, 1, 1, 1, 1, 1,\n",
              "        1, 1, 1, 1, 1, 1, 1, 1, 1, 1, 1, 1, 1, 1, 1, 1, 1, 1, 1, 1, 1, 1,\n",
              "        1, 1, 1, 1, 1, 1, 1, 1, 1, 1, 1, 1, 1, 1, 1, 1, 1, 1, 1, 1, 2, 2,\n",
              "        2, 2, 2, 2, 2, 2, 2, 2, 2, 2, 2, 2, 2, 2, 2, 2, 2, 2, 2, 2, 2, 2,\n",
              "        2, 2, 2, 2, 2, 2, 2, 2, 2, 2, 2, 2, 2, 2, 2, 2, 2, 2, 2, 2, 2, 2,\n",
              "        2, 2]),\n",
              " 'frame': None,\n",
              " 'target_names': array(['class_0', 'class_1', 'class_2'], dtype='<U7'),\n",
              " 'DESCR': '.. _wine_dataset:\\n\\nWine recognition dataset\\n------------------------\\n\\n**Data Set Characteristics:**\\n\\n:Number of Instances: 178\\n:Number of Attributes: 13 numeric, predictive attributes and the class\\n:Attribute Information:\\n    - Alcohol\\n    - Malic acid\\n    - Ash\\n    - Alcalinity of ash\\n    - Magnesium\\n    - Total phenols\\n    - Flavanoids\\n    - Nonflavanoid phenols\\n    - Proanthocyanins\\n    - Color intensity\\n    - Hue\\n    - OD280/OD315 of diluted wines\\n    - Proline\\n    - class:\\n        - class_0\\n        - class_1\\n        - class_2\\n\\n:Summary Statistics:\\n\\n============================= ==== ===== ======= =====\\n                                Min   Max   Mean     SD\\n============================= ==== ===== ======= =====\\nAlcohol:                      11.0  14.8    13.0   0.8\\nMalic Acid:                   0.74  5.80    2.34  1.12\\nAsh:                          1.36  3.23    2.36  0.27\\nAlcalinity of Ash:            10.6  30.0    19.5   3.3\\nMagnesium:                    70.0 162.0    99.7  14.3\\nTotal Phenols:                0.98  3.88    2.29  0.63\\nFlavanoids:                   0.34  5.08    2.03  1.00\\nNonflavanoid Phenols:         0.13  0.66    0.36  0.12\\nProanthocyanins:              0.41  3.58    1.59  0.57\\nColour Intensity:              1.3  13.0     5.1   2.3\\nHue:                          0.48  1.71    0.96  0.23\\nOD280/OD315 of diluted wines: 1.27  4.00    2.61  0.71\\nProline:                       278  1680     746   315\\n============================= ==== ===== ======= =====\\n\\n:Missing Attribute Values: None\\n:Class Distribution: class_0 (59), class_1 (71), class_2 (48)\\n:Creator: R.A. Fisher\\n:Donor: Michael Marshall (MARSHALL%PLU@io.arc.nasa.gov)\\n:Date: July, 1988\\n\\nThis is a copy of UCI ML Wine recognition datasets.\\nhttps://archive.ics.uci.edu/ml/machine-learning-databases/wine/wine.data\\n\\nThe data is the results of a chemical analysis of wines grown in the same\\nregion in Italy by three different cultivators. There are thirteen different\\nmeasurements taken for different constituents found in the three types of\\nwine.\\n\\nOriginal Owners:\\n\\nForina, M. et al, PARVUS -\\nAn Extendible Package for Data Exploration, Classification and Correlation.\\nInstitute of Pharmaceutical and Food Analysis and Technologies,\\nVia Brigata Salerno, 16147 Genoa, Italy.\\n\\nCitation:\\n\\nLichman, M. (2013). UCI Machine Learning Repository\\n[https://archive.ics.uci.edu/ml]. Irvine, CA: University of California,\\nSchool of Information and Computer Science.\\n\\n|details-start|\\n**References**\\n|details-split|\\n\\n(1) S. Aeberhard, D. Coomans and O. de Vel,\\nComparison of Classifiers in High Dimensional Settings,\\nTech. Rep. no. 92-02, (1992), Dept. of Computer Science and Dept. of\\nMathematics and Statistics, James Cook University of North Queensland.\\n(Also submitted to Technometrics).\\n\\nThe data was used with many others for comparing various\\nclassifiers. The classes are separable, though only RDA\\nhas achieved 100% correct classification.\\n(RDA : 100%, QDA 99.4%, LDA 98.9%, 1NN 96.1% (z-transformed data))\\n(All results using the leave-one-out technique)\\n\\n(2) S. Aeberhard, D. Coomans and O. de Vel,\\n\"THE CLASSIFICATION PERFORMANCE OF RDA\"\\nTech. Rep. no. 92-01, (1992), Dept. of Computer Science and Dept. of\\nMathematics and Statistics, James Cook University of North Queensland.\\n(Also submitted to Journal of Chemometrics).\\n\\n|details-end|\\n',\n",
              " 'feature_names': ['alcohol',\n",
              "  'malic_acid',\n",
              "  'ash',\n",
              "  'alcalinity_of_ash',\n",
              "  'magnesium',\n",
              "  'total_phenols',\n",
              "  'flavanoids',\n",
              "  'nonflavanoid_phenols',\n",
              "  'proanthocyanins',\n",
              "  'color_intensity',\n",
              "  'hue',\n",
              "  'od280/od315_of_diluted_wines',\n",
              "  'proline']}"
            ]
          },
          "metadata": {},
          "output_type": "display_data"
        },
        {
          "name": "stdout",
          "output_type": "stream",
          "text": [
            "Размерность x_data - (178, 13)\n",
            "Размерность y_data - (178,)\n",
            "\n",
            "Данные по первому вину: [1.423e+01 1.710e+00 2.430e+00 1.560e+01 1.270e+02 2.800e+00 3.060e+00\n",
            " 2.800e-01 2.290e+00 5.640e+00 1.040e+00 3.920e+00 1.065e+03]\n",
            "Класс вина: 0\n"
          ]
        }
      ],
      "source": [
        "display(load_wine())\n",
        "\n",
        "x_data = load_wine()['data']              # Загрузка набора данных о винах\n",
        "y_data = load_wine()['target']            # Загрузка классов вин\n",
        "\n",
        "print('Размерность x_data -', x_data.shape)\n",
        "print('Размерность y_data -', y_data.shape)\n",
        "print()\n",
        "\n",
        "# Вывод примера данных\n",
        "print('Данные по первому вину:',x_data[0])\n",
        "print('Класс вина:',y_data[0])"
      ]
    },
    {
      "cell_type": "code",
      "execution_count": 19,
      "metadata": {},
      "outputs": [
        {
          "data": {
            "text/html": [
              "<div>\n",
              "<style scoped>\n",
              "    .dataframe tbody tr th:only-of-type {\n",
              "        vertical-align: middle;\n",
              "    }\n",
              "\n",
              "    .dataframe tbody tr th {\n",
              "        vertical-align: top;\n",
              "    }\n",
              "\n",
              "    .dataframe thead th {\n",
              "        text-align: right;\n",
              "    }\n",
              "</style>\n",
              "<table border=\"1\" class=\"dataframe\">\n",
              "  <thead>\n",
              "    <tr style=\"text-align: right;\">\n",
              "      <th></th>\n",
              "      <th>alcohol</th>\n",
              "      <th>malic_acid</th>\n",
              "      <th>ash</th>\n",
              "      <th>alcalinity_of_ash</th>\n",
              "      <th>magnesium</th>\n",
              "      <th>total_phenols</th>\n",
              "      <th>flavanoids</th>\n",
              "      <th>nonflavanoid_phenols</th>\n",
              "      <th>proanthocyanins</th>\n",
              "      <th>color_intensity</th>\n",
              "      <th>hue</th>\n",
              "      <th>od280/od315_of_diluted_wines</th>\n",
              "      <th>proline</th>\n",
              "    </tr>\n",
              "  </thead>\n",
              "  <tbody>\n",
              "    <tr>\n",
              "      <th>0</th>\n",
              "      <td>14.23</td>\n",
              "      <td>1.71</td>\n",
              "      <td>2.43</td>\n",
              "      <td>15.6</td>\n",
              "      <td>127.0</td>\n",
              "      <td>2.80</td>\n",
              "      <td>3.06</td>\n",
              "      <td>0.28</td>\n",
              "      <td>2.29</td>\n",
              "      <td>5.64</td>\n",
              "      <td>1.04</td>\n",
              "      <td>3.92</td>\n",
              "      <td>1065.0</td>\n",
              "    </tr>\n",
              "    <tr>\n",
              "      <th>1</th>\n",
              "      <td>13.20</td>\n",
              "      <td>1.78</td>\n",
              "      <td>2.14</td>\n",
              "      <td>11.2</td>\n",
              "      <td>100.0</td>\n",
              "      <td>2.65</td>\n",
              "      <td>2.76</td>\n",
              "      <td>0.26</td>\n",
              "      <td>1.28</td>\n",
              "      <td>4.38</td>\n",
              "      <td>1.05</td>\n",
              "      <td>3.40</td>\n",
              "      <td>1050.0</td>\n",
              "    </tr>\n",
              "    <tr>\n",
              "      <th>2</th>\n",
              "      <td>13.16</td>\n",
              "      <td>2.36</td>\n",
              "      <td>2.67</td>\n",
              "      <td>18.6</td>\n",
              "      <td>101.0</td>\n",
              "      <td>2.80</td>\n",
              "      <td>3.24</td>\n",
              "      <td>0.30</td>\n",
              "      <td>2.81</td>\n",
              "      <td>5.68</td>\n",
              "      <td>1.03</td>\n",
              "      <td>3.17</td>\n",
              "      <td>1185.0</td>\n",
              "    </tr>\n",
              "    <tr>\n",
              "      <th>3</th>\n",
              "      <td>14.37</td>\n",
              "      <td>1.95</td>\n",
              "      <td>2.50</td>\n",
              "      <td>16.8</td>\n",
              "      <td>113.0</td>\n",
              "      <td>3.85</td>\n",
              "      <td>3.49</td>\n",
              "      <td>0.24</td>\n",
              "      <td>2.18</td>\n",
              "      <td>7.80</td>\n",
              "      <td>0.86</td>\n",
              "      <td>3.45</td>\n",
              "      <td>1480.0</td>\n",
              "    </tr>\n",
              "    <tr>\n",
              "      <th>4</th>\n",
              "      <td>13.24</td>\n",
              "      <td>2.59</td>\n",
              "      <td>2.87</td>\n",
              "      <td>21.0</td>\n",
              "      <td>118.0</td>\n",
              "      <td>2.80</td>\n",
              "      <td>2.69</td>\n",
              "      <td>0.39</td>\n",
              "      <td>1.82</td>\n",
              "      <td>4.32</td>\n",
              "      <td>1.04</td>\n",
              "      <td>2.93</td>\n",
              "      <td>735.0</td>\n",
              "    </tr>\n",
              "  </tbody>\n",
              "</table>\n",
              "</div>"
            ],
            "text/plain": [
              "   alcohol  malic_acid   ash  alcalinity_of_ash  magnesium  total_phenols  \\\n",
              "0    14.23        1.71  2.43               15.6      127.0           2.80   \n",
              "1    13.20        1.78  2.14               11.2      100.0           2.65   \n",
              "2    13.16        2.36  2.67               18.6      101.0           2.80   \n",
              "3    14.37        1.95  2.50               16.8      113.0           3.85   \n",
              "4    13.24        2.59  2.87               21.0      118.0           2.80   \n",
              "\n",
              "   flavanoids  nonflavanoid_phenols  proanthocyanins  color_intensity   hue  \\\n",
              "0        3.06                  0.28             2.29             5.64  1.04   \n",
              "1        2.76                  0.26             1.28             4.38  1.05   \n",
              "2        3.24                  0.30             2.81             5.68  1.03   \n",
              "3        3.49                  0.24             2.18             7.80  0.86   \n",
              "4        2.69                  0.39             1.82             4.32  1.04   \n",
              "\n",
              "   od280/od315_of_diluted_wines  proline  \n",
              "0                          3.92   1065.0  \n",
              "1                          3.40   1050.0  \n",
              "2                          3.17   1185.0  \n",
              "3                          3.45   1480.0  \n",
              "4                          2.93    735.0  "
            ]
          },
          "metadata": {},
          "output_type": "display_data"
        },
        {
          "data": {
            "text/html": [
              "<div>\n",
              "<style scoped>\n",
              "    .dataframe tbody tr th:only-of-type {\n",
              "        vertical-align: middle;\n",
              "    }\n",
              "\n",
              "    .dataframe tbody tr th {\n",
              "        vertical-align: top;\n",
              "    }\n",
              "\n",
              "    .dataframe thead th {\n",
              "        text-align: right;\n",
              "    }\n",
              "</style>\n",
              "<table border=\"1\" class=\"dataframe\">\n",
              "  <thead>\n",
              "    <tr style=\"text-align: right;\">\n",
              "      <th></th>\n",
              "      <th>0</th>\n",
              "    </tr>\n",
              "  </thead>\n",
              "  <tbody>\n",
              "    <tr>\n",
              "      <th>0</th>\n",
              "      <td>0</td>\n",
              "    </tr>\n",
              "    <tr>\n",
              "      <th>1</th>\n",
              "      <td>0</td>\n",
              "    </tr>\n",
              "    <tr>\n",
              "      <th>2</th>\n",
              "      <td>0</td>\n",
              "    </tr>\n",
              "    <tr>\n",
              "      <th>3</th>\n",
              "      <td>0</td>\n",
              "    </tr>\n",
              "    <tr>\n",
              "      <th>4</th>\n",
              "      <td>0</td>\n",
              "    </tr>\n",
              "  </tbody>\n",
              "</table>\n",
              "</div>"
            ],
            "text/plain": [
              "   0\n",
              "0  0\n",
              "1  0\n",
              "2  0\n",
              "3  0\n",
              "4  0"
            ]
          },
          "metadata": {},
          "output_type": "display_data"
        }
      ],
      "source": [
        "x_data = pd.DataFrame(x_data, columns=load_wine()['feature_names'])\n",
        "y_data = pd.DataFrame(y_data)\n",
        "\n",
        "display(x_data.head())\n",
        "display(y_data.head())"
      ]
    },
    {
      "cell_type": "markdown",
      "metadata": {
        "id": "SCsKSPhNMXQw"
      },
      "source": [
        "## Подготовка данных"
      ]
    },
    {
      "cell_type": "code",
      "execution_count": 20,
      "metadata": {
        "colab": {
          "base_uri": "https://localhost:8080/"
        },
        "id": "S7z-yghQcWsW",
        "outputId": "9ccfdd34-94de-41f7-ba02-58578d9e2c1c"
      },
      "outputs": [
        {
          "name": "stdout",
          "output_type": "stream",
          "text": [
            "(144, 13)\n",
            "(144, 3)\n",
            "\n",
            "(16, 13)\n",
            "(16, 3)\n"
          ]
        }
      ],
      "source": [
        "# Перевод в one hot encoding\n",
        "from numpy import disp\n",
        "\n",
        "\n",
        "y_data = tf.keras.utils.to_categorical(y_data, 3)\n",
        "\n",
        "x_data_scaled = preprocessing.MinMaxScaler().fit_transform(x_data)\n",
        "\n",
        "# Разбиение наборов на общую и тестовую выборки\n",
        "x_all, x_test, y_all, y_test = train_test_split(x_data_scaled,\n",
        "                                                y_data,\n",
        "                                                test_size=0.1,\n",
        "                                                shuffle=True,\n",
        "                                                random_state = 6)\n",
        "\n",
        "# Разбиение общей выборки на обучающую и проверочную\n",
        "x_train, x_val, y_train, y_val = train_test_split(x_all,\n",
        "                                                  y_all,\n",
        "                                                  test_size=0.1,\n",
        "                                                  shuffle=True,\n",
        "                                                  random_state = 6)\n",
        "\n",
        "print(x_train.shape)\n",
        "print(y_train.shape)\n",
        "print()\n",
        "print(x_val.shape)\n",
        "print(y_val.shape)"
      ]
    },
    {
      "cell_type": "code",
      "execution_count": 21,
      "metadata": {
        "id": "N7-1IW6F97BL"
      },
      "outputs": [
        {
          "name": "stdout",
          "output_type": "stream",
          "text": [
            "Model: \"sequential_7\"\n",
            "_________________________________________________________________\n",
            " Layer (type)                Output Shape              Param #   \n",
            "=================================================================\n",
            " dense_27 (Dense)            (None, 64)                896       \n",
            "                                                                 \n",
            " dropout_9 (Dropout)         (None, 64)                0         \n",
            "                                                                 \n",
            " dense_28 (Dense)            (None, 32)                2080      \n",
            "                                                                 \n",
            " dropout_10 (Dropout)        (None, 32)                0         \n",
            "                                                                 \n",
            " dense_29 (Dense)            (None, 16)                528       \n",
            "                                                                 \n",
            " dense_30 (Dense)            (None, 3)                 51        \n",
            "                                                                 \n",
            "=================================================================\n",
            "Total params: 3,555\n",
            "Trainable params: 3,555\n",
            "Non-trainable params: 0\n",
            "_________________________________________________________________\n"
          ]
        },
        {
          "data": {
            "text/plain": [
              "None"
            ]
          },
          "metadata": {},
          "output_type": "display_data"
        }
      ],
      "source": [
        "# ваше решение\n",
        "model = tf.keras.models.Sequential()\n",
        "model.add(tf.keras.layers.Dense(64, input_dim=13, activation='relu'))\n",
        "model.add(tf.keras.layers.Dropout(0.2))\n",
        "model.add(tf.keras.layers.Dense(32, activation='relu'))\n",
        "model.add(tf.keras.layers.Dropout(0.2))\n",
        "model.add(tf.keras.layers.Dense(16, activation='relu'))\n",
        "model.add(tf.keras.layers.Dense(3, activation='softmax'))\n",
        "\n",
        "model.compile(optimizer='adam', loss='categorical_crossentropy', metrics=['accuracy'])\n",
        "\n",
        "display(model.summary())\n"
      ]
    },
    {
      "cell_type": "code",
      "execution_count": 22,
      "metadata": {},
      "outputs": [
        {
          "name": "stdout",
          "output_type": "stream",
          "text": [
            "Epoch 1/20\n",
            "15/15 [==============================] - 5s 77ms/step - loss: 1.0855 - accuracy: 0.3403 - val_loss: 1.0529 - val_accuracy: 0.2500\n",
            "Epoch 2/20\n",
            "15/15 [==============================] - 0s 30ms/step - loss: 1.0279 - accuracy: 0.4722 - val_loss: 0.9910 - val_accuracy: 0.5625\n",
            "Epoch 3/20\n",
            "15/15 [==============================] - 0s 21ms/step - loss: 0.9737 - accuracy: 0.5903 - val_loss: 0.9313 - val_accuracy: 0.7500\n",
            "Epoch 4/20\n",
            "15/15 [==============================] - 0s 27ms/step - loss: 0.9065 - accuracy: 0.6875 - val_loss: 0.8465 - val_accuracy: 0.8750\n",
            "Epoch 5/20\n",
            "15/15 [==============================] - 0s 23ms/step - loss: 0.8226 - accuracy: 0.8125 - val_loss: 0.7268 - val_accuracy: 1.0000\n",
            "Epoch 6/20\n",
            "15/15 [==============================] - 0s 33ms/step - loss: 0.7330 - accuracy: 0.8194 - val_loss: 0.6040 - val_accuracy: 1.0000\n",
            "Epoch 7/20\n",
            "15/15 [==============================] - 0s 27ms/step - loss: 0.6326 - accuracy: 0.8819 - val_loss: 0.4948 - val_accuracy: 1.0000\n",
            "Epoch 8/20\n",
            "15/15 [==============================] - 0s 33ms/step - loss: 0.5430 - accuracy: 0.8681 - val_loss: 0.3842 - val_accuracy: 1.0000\n",
            "Epoch 9/20\n",
            "15/15 [==============================] - 0s 32ms/step - loss: 0.4527 - accuracy: 0.8681 - val_loss: 0.3045 - val_accuracy: 1.0000\n",
            "Epoch 10/20\n",
            "15/15 [==============================] - 0s 25ms/step - loss: 0.4126 - accuracy: 0.8681 - val_loss: 0.2466 - val_accuracy: 1.0000\n",
            "Epoch 11/20\n",
            "15/15 [==============================] - 0s 19ms/step - loss: 0.3298 - accuracy: 0.8958 - val_loss: 0.2007 - val_accuracy: 0.9375\n",
            "Epoch 12/20\n",
            "15/15 [==============================] - 0s 15ms/step - loss: 0.2691 - accuracy: 0.9097 - val_loss: 0.1879 - val_accuracy: 0.9375\n",
            "Epoch 13/20\n",
            "15/15 [==============================] - 0s 22ms/step - loss: 0.2794 - accuracy: 0.9236 - val_loss: 0.1419 - val_accuracy: 1.0000\n",
            "Epoch 14/20\n",
            "15/15 [==============================] - 0s 32ms/step - loss: 0.2477 - accuracy: 0.9306 - val_loss: 0.1344 - val_accuracy: 1.0000\n",
            "Epoch 15/20\n",
            "15/15 [==============================] - 1s 41ms/step - loss: 0.2117 - accuracy: 0.9375 - val_loss: 0.1355 - val_accuracy: 0.9375\n",
            "Epoch 16/20\n",
            "15/15 [==============================] - 1s 35ms/step - loss: 0.1888 - accuracy: 0.9375 - val_loss: 0.1056 - val_accuracy: 1.0000\n",
            "Epoch 17/20\n",
            "15/15 [==============================] - 0s 30ms/step - loss: 0.1561 - accuracy: 0.9583 - val_loss: 0.1397 - val_accuracy: 0.9375\n",
            "Epoch 18/20\n",
            "15/15 [==============================] - 1s 45ms/step - loss: 0.1838 - accuracy: 0.9444 - val_loss: 0.0788 - val_accuracy: 1.0000\n",
            "Epoch 19/20\n",
            "15/15 [==============================] - 0s 31ms/step - loss: 0.1564 - accuracy: 0.9236 - val_loss: 0.0863 - val_accuracy: 1.0000\n",
            "Epoch 20/20\n",
            "15/15 [==============================] - 1s 54ms/step - loss: 0.1169 - accuracy: 0.9722 - val_loss: 0.0650 - val_accuracy: 1.0000\n"
          ]
        },
        {
          "data": {
            "image/png": "[encoded data removed]",
            "text/plain": [
              "<Figure size 640x480 with 1 Axes>"
            ]
          },
          "metadata": {},
          "output_type": "display_data"
        }
      ],
      "source": [
        "\n",
        "history = model.fit(x_train, y_train, epochs=20, batch_size=10, validation_data=(x_val, y_val))\n",
        "\n",
        "plt.plot(history.history['accuracy'], label='accuracy')\n",
        "plt.plot(history.history['val_accuracy'], label = 'val_accuracy')\n",
        "plt.xlabel('Epoch')\n",
        "plt.ylabel('Accuracy')\n",
        "plt.ylim([0, 1])\n",
        "plt.legend(loc='lower right')\n",
        "\n",
        "plt.show()\n"
      ]
    },
    {
      "cell_type": "code",
      "execution_count": 23,
      "metadata": {},
      "outputs": [
        {
          "name": "stdout",
          "output_type": "stream",
          "text": [
            "1/1 [==============================] - 0s 77ms/step - loss: 0.0612 - accuracy: 1.0000\n"
          ]
        },
        {
          "data": {
            "text/plain": [
              "[0.06117457151412964, 1.0]"
            ]
          },
          "execution_count": 23,
          "metadata": {},
          "output_type": "execute_result"
        }
      ],
      "source": [
        "model.evaluate(x_test, y_test)"
      ]
    }
  ],
  "metadata": {
    "accelerator": "GPU",
    "colab": {
      "provenance": []
    },
    "kernelspec": {
      "display_name": "Python 3",
      "name": "python3"
    },
    "language_info": {
      "codemirror_mode": {
        "name": "ipython",
        "version": 3
      },
      "file_extension": ".py",
      "mimetype": "text/x-python",
      "name": "python",
      "nbconvert_exporter": "python",
      "pygments_lexer": "ipython3",
      "version": "3.11.5"
    }
  },
  "nbformat": 4,
  "nbformat_minor": 0
}
